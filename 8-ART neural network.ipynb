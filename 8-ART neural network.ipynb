{
 "cells": [
  {
   "cell_type": "code",
   "execution_count": 1,
   "id": "e7f0b31b-30f5-4342-8827-4ba85ebee952",
   "metadata": {},
   "outputs": [],
   "source": [
    "import numpy as np\n"
   ]
  },
  {
   "cell_type": "code",
   "execution_count": 1,
   "id": "8499e559-02dc-4144-aaf5-c5afd654f5e4",
   "metadata": {},
   "outputs": [],
   "source": [
    "class ARTNetwork:\n",
    "    def __init__(self, input_size, vigilance):\n",
    "        self.input_size = input_size\n",
    "        self.vigilance = vigilance\n",
    "        self.weights = np.zeros((input_size,1))\n",
    "\n",
    "    def train(self, input_data,epochs):\n",
    "        normalized_input = input_data / np.linalg.norm(input_data)\n",
    "        for _ in range(epochs):\n",
    "            similarity = normalized_input @ self.weights\n",
    "            if similarity.any() >= self.vigilance:\n",
    "                return\n",
    "            self.weights = np.maximum(self.weights, normalized_input)\n",
    "            normalized_input = self.weights / np.linalg.norm(self.weights)\n",
    "\n",
    "    def predict(self, input_data):\n",
    "        normalized_input = input_data / np.linalg.norm(input_data)\n",
    "        similarity = normalized_input @ self.weights\n",
    "        if similarity.any() >= self.vigilance:\n",
    "            output_pattern = np.zeros(len(similarity))\n",
    "            print(similarity)\n",
    "            winner = np.argmax(similarity)\n",
    "            output_pattern[winner] = 1\n",
    "        else:\n",
    "            output_pattern = np.zeros(len(similarity) + 1)\n",
    "            output_pattern[-1] = 1\n",
    "        return output_pattern"
   ]
  },
  {
   "cell_type": "code",
   "execution_count": 3,
   "id": "a92f8759-fd23-4739-aa11-3a82d6139f89",
   "metadata": {},
   "outputs": [],
   "source": [
    "input_size = 4\n",
    "vigilance = 0.9\n",
    "art = ARTNetwork(input_size, vigilance)"
   ]
  },
  {
   "cell_type": "code",
   "execution_count": 4,
   "id": "4596ac3c-7ccb-4686-99d2-aa4cbb33fa68",
   "metadata": {},
   "outputs": [],
   "source": [
    "data = np.array([[1, 1, 0, 0],\n",
    "                 [0, 1, 0, 1],\n",
    "                 [0, 0, 1, 1],\n",
    "                 [1, 0, 1, 0]])input_size = 4\n",
    "vigilance = 0.9\n",
    "art = ARTNetwork(input_size, vigilance)\n"
   ]
  },
  {
   "cell_type": "code",
   "execution_count": 5,
   "id": "83457a63-0509-49f2-ba96-51a5b0a385d2",
   "metadata": {},
   "outputs": [],
   "source": [
    "for sample in data:\n",
    "    art.train(sample,1000)"
   ]
  },
  {
   "cell_type": "code",
   "execution_count": 6,
   "id": "bed8934d-2867-4bef-b5c6-ad6178416fcb",
   "metadata": {},
   "outputs": [
    {
     "name": "stdout",
     "output_type": "stream",
     "text": [
      "[-0.70710678 -0.70710678  0.          0.        ]\n",
      "[0. 0. 1. 0.]\n"
     ]
    }
   ],
   "source": [
    "new_input = np.array([0, -1, 0, 0])\n",
    "new_output = art.predict(new_input)\n",
    "print(new_output)"
   ]
  },
  {
   "cell_type": "code",
   "execution_count": null,
   "id": "d0ead3b9-08bc-401c-aa87-fcd151e809d1",
   "metadata": {},
   "outputs": [],
   "source": [
    "'''\n",
    "RTNetwork class:\n",
    "\n",
    "    Initializes the ART network with a specified input size and vigilance parameter.\n",
    "    The weights matrix is initialized to zeros.\n",
    "\n",
    "train method:\n",
    "\n",
    "    Trains the ART network using input data by updating the weights based on the normalized input data.\n",
    "    It iterates over a specified number of epochs.\n",
    "    It computes the similarity between the input data and the weights.\n",
    "    If the similarity is greater than or equal to the vigilance parameter, the training process stops.\n",
    "    Otherwise, it updates the weights and continues training.\n",
    "\n",
    "predict method:\n",
    "\n",
    "    Given input data, it predicts the output pattern using the trained weights.\n",
    "    It computes the similarity between the input data and the weights.\n",
    "    If the similarity is greater than or equal to the vigilance parameter, it selects the pattern with the highest similarity as the output pattern.\n",
    "    Otherwise, it adds a new output pattern.\n",
    "\n",
    "Main code:\n",
    "\n",
    "    Specifies the input size and vigilance parameter for the ART network.\n",
    "    Creates an instance of the ART network.\n",
    "    Defines input data.\n",
    "    Trains the ART network using the input data.\n",
    "    Tests the network by predicting the output pattern for a new input and prints the result.\n",
    "    '''"
   ]
  }
 ],
 "metadata": {
  "kernelspec": {
   "display_name": "Python 3 (ipykernel)",
   "language": "python",
   "name": "python3"
  },
  "language_info": {
   "codemirror_mode": {
    "name": "ipython",
    "version": 3
   },
   "file_extension": ".py",
   "mimetype": "text/x-python",
   "name": "python",
   "nbconvert_exporter": "python",
   "pygments_lexer": "ipython3",
   "version": "3.12.2"
  }
 },
 "nbformat": 4,
 "nbformat_minor": 5
}
