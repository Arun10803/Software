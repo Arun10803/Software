{
 "cells": [
  {
   "cell_type": "code",
   "execution_count": 1,
   "id": "152fd681",
   "metadata": {},
   "outputs": [
    {
     "name": "stdout",
     "output_type": "stream",
     "text": [
      "[0 0 0 0 0 0 1 0 0 0] is even\n",
      "[0 0 0 0 0 0 0 1 0 0] is odd\n",
      "[0 0 0 0 0 0 0 0 1 0] is even\n",
      "[0 0 0 0 0 0 0 0 0 1] is odd\n",
      "[0 0 0 0 0 0 1 1 0 0] is even\n",
      "[0 0 0 0 0 0 1 0 1 0] is even\n",
      "[0 0 0 0 0 0 1 1 1 0] is even\n",
      "[0 0 0 0 0 0 1 1 1 1] is even\n",
      "[0 0 0 0 0 0 1 0 1 1] is even\n",
      "[0 0 0 0 0 0 0 1 1 1] is odd\n"
     ]
    }
   ],
   "source": [
    "import numpy as np\n",
    "\n",
    "class Perceptron:\n",
    "    def __init__(self, input_size, lr=0.1):\n",
    "        self.W = np.zeros(input_size + 1)\n",
    "        self.lr = lr\n",
    "\n",
    "    def activation_fn(self, x):\n",
    "        return 1 if x >= 0 else 0\n",
    "\n",
    "    def predict(self, x):\n",
    "        x = np.insert(x, 0, 1)\n",
    "        z = self.W.T.dot(x)\n",
    "        a = self.activation_fn(z)\n",
    "        return a\n",
    "\n",
    "    def train(self, X, Y, epochs):\n",
    "        for _ in range(epochs):\n",
    "            for i in range(Y.shape[0]):\n",
    "                x = X[i]\n",
    "                y = self.predict(x)\n",
    "                e = Y[i] - y\n",
    "                self.W = self.W + self.lr * e * np.insert(x, 0, 1)\n",
    "\n",
    "# Define the input data and labels\n",
    "X = np.array([\n",
    "    [0, 0, 0, 0, 0, 0, 1, 0, 0, 0],  # 0\n",
    "    [0, 0, 0, 0, 0, 0, 0, 1, 0, 0],  # 1\n",
    "    [0, 0, 0, 0, 0, 0, 0, 0, 1, 0],  # 2\n",
    "    [0, 0, 0, 0, 0, 0, 0, 0, 0, 1],  # 3\n",
    "    [0, 0, 0, 0, 0, 0, 1, 1, 0, 0],  # 4\n",
    "    [0, 0, 0, 0, 0, 0, 1, 0, 1, 0],  # 5\n",
    "    [0, 0, 0, 0, 0, 0, 1, 1, 1, 0],  # 6\n",
    "    [0, 0, 0, 0, 0, 0, 1, 1, 1, 1],  # 7\n",
    "    [0, 0, 0, 0, 0, 0, 1, 0, 1, 1],  # 8\n",
    "    [0, 0, 0, 0, 0, 0, 0, 1, 1, 1],  # 9\n",
    "])\n",
    "\n",
    "Y = np.array([0, 1, 0, 1, 0, 1, 0, 1, 0, 1])\n",
    "\n",
    "# Create the perceptron and train it\n",
    "perceptron = Perceptron(input_size=10)\n",
    "perceptron.train(X, Y, epochs=100)\n",
    "\n",
    "# Test the perceptron on some input data\n",
    "test_X = np.array([\n",
    "    [0, 0, 0, 0, 0, 0, 1, 0, 0, 0],  # 0\n",
    "    [0, 0, 0, 0, 0, 0, 0, 1, 0, 0],  # 1\n",
    "    [0, 0, 0, 0, 0, 0, 0, 0, 1, 0],  # 2\n",
    "    [0, 0, 0, 0, 0, 0, 0, 0, 0, 1],  # 3\n",
    "    [0, 0, 0, 0, 0, 0, 1, 1, 0, 0],  # 4\n",
    "    [0, 0, 0, 0, 0, 0, 1, 0, 1, 0],  # 5\n",
    "    [0, 0, 0, 0, 0, 0, 1, 1, 1, 0],  # 6\n",
    "    [0, 0, 0, 0, 0, 0, 1, 1, 1, 1],  # 7\n",
    "    [0, 0, 0, 0, 0, 0, 1, 0, 1, 1],  # 8\n",
    "    [0, 0, 0, 0, 0, 0, 0, 1, 1, 1],  # 9\n",
    "])\n",
    "\n",
    "for i in range(test_X.shape[0]):\n",
    "    x = test_X[i]\n",
    "    y = perceptron.predict(x)\n",
    "    print(f'{x} is {\"even\" if y == 0 else \"odd\"}')\n"
   ]
  },
  {
   "cell_type": "code",
   "execution_count": null,
   "id": "a3d86e27",
   "metadata": {},
   "outputs": [],
   "source": [
    "'''\n",
    "    Perceptron Class:\n",
    "        The Perceptron class represents a perceptron model.\n",
    "        It initializes the perceptron with a weight vector (self.W) of size input_size + 1 (including the bias term) and a learning rate (lr).\n",
    "        It defines an activation function (activation_fn) that returns 1 if the input is greater than or equal to 0, otherwise 0.\n",
    "        The predict method predicts the output for a given input by computing the dot product of the input and weight vectors, applying the activation function, and returning the result.\n",
    "        The train method trains the perceptron using input-output pairs for a specified number of epochs. It iterates over each input-output pair, computes the prediction error, and updates the weights using the perceptron learning rule.\n",
    "\n",
    "    Input Data:\n",
    "        The input data (X) consists of binary numbers represented as arrays of length 10.\n",
    "        The output labels (Y) indicate whether each input number is even (0) or odd (1).\n",
    "\n",
    "    Training:\n",
    "        The perceptron is trained using the input data (X) and their corresponding labels (Y) for 100 epochs.\n",
    "\n",
    "    Testing:\n",
    "        After training, the perceptron is tested on the same input data to classify whether each number is even or odd.\n",
    "        For each input number, the prediction is made using the predict method, and the result is printed.\n",
    "        '''"
   ]
  },
  {
   "cell_type": "code",
   "execution_count": null,
   "id": "f470cbfc",
   "metadata": {},
   "outputs": [],
   "source": []
  },
  {
   "cell_type": "code",
   "execution_count": null,
   "id": "158dc108",
   "metadata": {},
   "outputs": [],
   "source": []
  }
 ],
 "metadata": {
  "kernelspec": {
   "display_name": "Python 3 (ipykernel)",
   "language": "python",
   "name": "python3"
  },
  "language_info": {
   "codemirror_mode": {
    "name": "ipython",
    "version": 3
   },
   "file_extension": ".py",
   "mimetype": "text/x-python",
   "name": "python",
   "nbconvert_exporter": "python",
   "pygments_lexer": "ipython3",
   "version": "3.12.2"
  }
 },
 "nbformat": 4,
 "nbformat_minor": 5
}
