{
 "cells": [
  {
   "cell_type": "code",
   "execution_count": 1,
   "id": "5a84ba0d",
   "metadata": {},
   "outputs": [],
   "source": [
    "import numpy as np"
   ]
  },
  {
   "cell_type": "code",
   "execution_count": 2,
   "id": "c3de92c4",
   "metadata": {},
   "outputs": [
    {
     "name": "stdout",
     "output_type": "stream",
     "text": [
      "AND NOT(0, 0) = 0\n",
      "AND NOT(0, 1) = 0\n",
      "AND NOT(1, 0) = 1\n",
      "AND NOT(1, 1) = 0\n"
     ]
    }
   ],
   "source": [
    "class McCullochPittsNeuron:\n",
    "    def __init__(self, weights, threshold):\n",
    "        self.weights = np.array(weights)\n",
    "        self.threshold = threshold\n",
    "\n",
    "    def activate(self, inputs):\n",
    "        weighted_sum = np.dot(inputs, self.weights)\n",
    "        return 1 if weighted_sum >= self.threshold else 0\n",
    "\n",
    "def AND_NOT(input1, input2):\n",
    "    weights = [1, -1] \n",
    "    threshold = 1\n",
    "\n",
    "    neuron = McCullochPittsNeuron(weights, threshold)\n",
    "\n",
    "    return neuron.activate([input1, input2])\n",
    "\n",
    "print(\"AND NOT(0, 0) =\", AND_NOT(0, 0))\n",
    "print(\"AND NOT(0, 1) =\", AND_NOT(0, 1))\n",
    "print(\"AND NOT(1, 0) =\", AND_NOT(1, 0))\n",
    "print(\"AND NOT(1, 1) =\", AND_NOT(1, 1))"
   ]
  },
  {
   "cell_type": "code",
   "execution_count": null,
   "id": "893093ae",
   "metadata": {},
   "outputs": [],
   "source": [
    "'''\n",
    "McCullochPittsNeuron Class:\n",
    "\n",
    "    This class represents a McCulloch-Pitts neuron, initialized with weights and a threshold.\n",
    "    __init__(self, weights, threshold): Constructor method that initializes the neuron's weights and threshold.\n",
    "    activate(self, inputs): Method to activate the neuron based on inputs. It computes the weighted sum of inputs and compares it to the threshold. If the weighted sum is greater than or equal to the threshold, the neuron outputs 1; otherwise, it outputs 0.\n",
    "\n",
    "AND_NOT Function:\n",
    "\n",
    "    This function defines the AND NOT logical operation using the McCulloch-Pitts neuron model.\n",
    "    It creates a McCullochPittsNeuron instance with specific weights and a threshold.\n",
    "    The function then activates the neuron with the given inputs [input1, input2] and returns the result.\n",
    "    '''"
   ]
  },
  {
   "cell_type": "code",
   "execution_count": null,
   "id": "dc71a544",
   "metadata": {},
   "outputs": [],
   "source": []
  },
  {
   "cell_type": "code",
   "execution_count": null,
   "id": "59d9bd13",
   "metadata": {},
   "outputs": [],
   "source": []
  }
 ],
 "metadata": {
  "kernelspec": {
   "display_name": "Python 3 (ipykernel)",
   "language": "python",
   "name": "python3"
  },
  "language_info": {
   "codemirror_mode": {
    "name": "ipython",
    "version": 3
   },
   "file_extension": ".py",
   "mimetype": "text/x-python",
   "name": "python",
   "nbconvert_exporter": "python",
   "pygments_lexer": "ipython3",
   "version": "3.12.2"
  }
 },
 "nbformat": 4,
 "nbformat_minor": 5
}
