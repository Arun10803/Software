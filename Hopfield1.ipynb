{
 "cells": [
  {
   "cell_type": "code",
   "execution_count": 12,
   "id": "c270122d-8e59-4057-8b13-76a0d19a17e6",
   "metadata": {},
   "outputs": [
    {
     "name": "stdout",
     "output_type": "stream",
     "text": [
      "Input pattern: [ 1  1 -1 -1]\n",
      "Predicted pattern: [ 1.  1. -1. -1.]\n",
      "Input pattern: [-1 -1  1  1]\n",
      "Predicted pattern: [-1. -1.  1.  1.]\n",
      "Input pattern: [ 1 -1  1 -1]\n",
      "Predicted pattern: [ 1. -1.  1. -1.]\n",
      "Input pattern: [-1  1 -1  1]\n",
      "Predicted pattern: [-1.  1. -1.  1.]\n"
     ]
    }
   ],
   "source": [
    "import numpy as np\n",
    "\n",
    "class HopfieldNetwork:\n",
    "    def __init__(self, n_neurons):\n",
    "        self.n_neurons = n_neurons\n",
    "        self.weights = np.zeros((n_neurons, n_neurons))\n",
    "\n",
    "    def train(self, patterns):\n",
    "        for pattern in patterns:\n",
    "            self.weights += np.outer(pattern, pattern)\n",
    "        np.fill_diagonal(self.weights, 0)\n",
    "\n",
    "    def predict(self, pattern):\n",
    "        energy = -0.5 * np.dot(np.dot(pattern, self.weights), pattern)\n",
    "        new_pattern = pattern.copy()\n",
    "        while True:\n",
    "            new_energy = -0.5 * np.dot(np.dot(new_pattern, self.weights), new_pattern)\n",
    "            new_pattern = np.sign(np.dot(new_pattern, self.weights))\n",
    "            new_pattern[new_pattern == 0] = 1  # set zero to 1\n",
    "            if np.array_equal(new_pattern, pattern) or new_energy >= energy:\n",
    "                return new_pattern\n",
    "            energy = new_energy\n",
    "\n",
    "# Define the patterns\n",
    "patterns = np.array([\n",
    "    [1, 1, -1, -1],\n",
    "    [-1, -1, 1, 1],\n",
    "    [1, -1, 1, -1],\n",
    "    [-1, 1, -1, 1]\n",
    "])\n",
    "\n",
    "# Determine the number of neurons\n",
    "n_neurons = patterns.shape[1]\n",
    "\n",
    "# Create and train the Hopfield Network\n",
    "network = HopfieldNetwork(n_neurons)\n",
    "network.train(patterns)\n",
    "\n",
    "# Test the network by predicting patterns\n",
    "for pattern in patterns:\n",
    "    prediction = network.predict(pattern)\n",
    "    print('Input pattern:', pattern)\n",
    "    print('Predicted pattern:', prediction)\n"
   ]
  },
  {
   "cell_type": "code",
   "execution_count": null,
   "id": "d834b8c1-54e0-4707-9fba-63a95e3964d2",
   "metadata": {},
   "outputs": [],
   "source": [
    "   '''\n",
    "   HopfieldNetwork class:\n",
    "        Initializes the Hopfield network with a specified number of neurons.\n",
    "        The weights matrix is initialized to zeros.\n",
    "\n",
    "    train method:\n",
    "        Trains the Hopfield network using Hebb's rule by updating the weights based on the outer product of input patterns.\n",
    "        It iterates over each pattern in the input patterns and updates the weights accordingly.\n",
    "        The diagonal of the weights matrix is filled with zeros to prevent self-connections.\n",
    "\n",
    "    predict method:\n",
    "        Given a pattern, it iteratively updates the pattern until convergence or until a maximum number of iterations is reached.\n",
    "        It computes the energy of the pattern using the current weights.\n",
    "        It updates the pattern by computing the sign of the dot product of the pattern and the weights.\n",
    "        If the updated pattern equals the input pattern or if the energy does not decrease, it returns the updated pattern.\n",
    "\n",
    "    Main code:\n",
    "        Defines input patterns.\n",
    "        Creates an instance of the Hopfield network and trains it using the input patterns.\n",
    "        Tests the network by predicting patterns and printing the input pattern along with the predicted pattern for each input pattern.\n",
    "        '''"
   ]
  }
 ],
 "metadata": {
  "kernelspec": {
   "display_name": "Python 3 (ipykernel)",
   "language": "python",
   "name": "python3"
  },
  "language_info": {
   "codemirror_mode": {
    "name": "ipython",
    "version": 3
   },
   "file_extension": ".py",
   "mimetype": "text/x-python",
   "name": "python",
   "nbconvert_exporter": "python",
   "pygments_lexer": "ipython3",
   "version": "3.12.2"
  }
 },
 "nbformat": 4,
 "nbformat_minor": 5
}
