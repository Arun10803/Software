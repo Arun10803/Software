{
 "cells": [
  {
   "cell_type": "code",
   "execution_count": 9,
   "id": "ec18be48",
   "metadata": {},
   "outputs": [
    {
     "name": "stdout",
     "output_type": "stream",
     "text": [
      "Input x:  [ 1 -1 -1 -1]\n",
      "Output y:  [ 1 -1]\n"
     ]
    }
   ],
   "source": [
    "import numpy as np\n",
    "\n",
    "# define two pairs of vectors \n",
    "x1 = np.array([1, 1, 1, -1])\n",
    "y1 = np.array([1, -1])\n",
    "x2 = np.array([-1, -1, 1, 1]) \n",
    "y2 = np.array([-1, 1])\n",
    "\n",
    "# compute weight matrix W\n",
    "W = np.outer(y1, x1) + np.outer(y2, x2)\n",
    "\n",
    "# define BAM function \n",
    "def bam(x):\n",
    "    y = W @ x\n",
    "    return np.where(y>=0, 1, -1)\n",
    "\n",
    "# test BAM with inputs\n",
    "x_test = np.array([1, -1, -1, -1]) \n",
    "y_test = bam(x_test)\n",
    "\n",
    "# print output \n",
    "print(\"Input x: \", x_test) \n",
    "print(\"Output y: \", y_test)\n"
   ]
  },
  {
   "cell_type": "code",
   "execution_count": 7,
   "id": "cbd8db87",
   "metadata": {},
   "outputs": [
    {
     "data": {
      "text/plain": [
       "array([[ 2,  2,  0, -2],\n",
       "       [-2, -2,  0,  2]])"
      ]
     },
     "execution_count": 7,
     "metadata": {},
     "output_type": "execute_result"
    }
   ],
   "source": [
    "W"
   ]
  },
  {
   "cell_type": "code",
   "execution_count": null,
   "id": "6336ae52-102c-49e0-8543-a580a233da91",
   "metadata": {},
   "outputs": [],
   "source": [
    "'''\n",
    "    Input Vectors:\n",
    "        Two pairs of input-output vectors (x1, y1) and (x2, y2) are defined.\n",
    "        x1 and x2 represent input patterns, while y1 and y2 represent corresponding output patterns.\n",
    "        Each vector is represented as a NumPy array.\n",
    "\n",
    "    Weight Matrix (W):\n",
    "        The weight matrix W is computed using the outer product of the input and output vectors.\n",
    "        np.outer(y1, x1) computes the outer product between y1 and x1.\n",
    "        Similarly, np.outer(y2, x2) computes the outer product between y2 and x2.\n",
    "        These outer products are added together to form the weight matrix W.\n",
    "\n",
    "    BAM Function:\n",
    "        The bam function is defined to perform the BAM computation.\n",
    "        It takes an input vector x and computes the output vector y using the weight matrix W.\n",
    "        The output vector y is determined by the sign of the dot product of W and x.\n",
    "        If the dot product is non-negative, the output element is set to 1; otherwise, it's set to -1.\n",
    "\n",
    "    Test BAM:\n",
    "        An input vector x_test is provided to the bam function to obtain the corresponding output vector y_test.\n",
    "        This tests the BAM's ability to recall an associated output pattern given an input pattern.\n",
    "\n",
    "    Print Output:\n",
    "        The input vector x_test and the output vector y_test are printed to observe the BAM's association.\n",
    "        '''"
   ]
  }
 ],
 "metadata": {
  "kernelspec": {
   "display_name": "Python 3 (ipykernel)",
   "language": "python",
   "name": "python3"
  },
  "language_info": {
   "codemirror_mode": {
    "name": "ipython",
    "version": 3
   },
   "file_extension": ".py",
   "mimetype": "text/x-python",
   "name": "python",
   "nbconvert_exporter": "python",
   "pygments_lexer": "ipython3",
   "version": "3.12.2"
  }
 },
 "nbformat": 4,
 "nbformat_minor": 5
}
